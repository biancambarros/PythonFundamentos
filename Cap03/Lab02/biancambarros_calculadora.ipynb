{
 "cells": [
  {
   "cell_type": "code",
   "execution_count": 1,
   "metadata": {},
   "outputs": [
    {
     "name": "stdout",
     "output_type": "stream",
     "text": [
      "\n",
      "******************* Python Calculator *******************\n",
      "\n",
      "\n",
      "Selecione a operação desejada:\n",
      "\n",
      "1) Soma\n",
      "2) Subtração\n",
      "3) Multiplicação\n",
      "4) Divisão\n",
      "Digite sua opção (1/2/3/4):5\n"
     ]
    }
   ],
   "source": [
    "print(\"\\n******************* Python Calculator *******************\")\n",
    "print(\"\\n\\nSelecione a operação desejada:\")\n",
    "print(\"\\n1) Soma\\n2) Subtração\\n3) Multiplicação\\n4) Divisão\")\n",
    "operacao = input('Digite sua opção (1/2/3/4):')"
   ]
  },
  {
   "cell_type": "code",
   "execution_count": 2,
   "metadata": {},
   "outputs": [
    {
     "name": "stdout",
     "output_type": "stream",
     "text": [
      "Digite o primeiro número:0\n",
      "Digite o segundo número:0\n"
     ]
    }
   ],
   "source": [
    "operando_1 = int(input('Digite o primeiro número:'))\n",
    "operando_2 = int(input('Digite o segundo número:'))"
   ]
  },
  {
   "cell_type": "code",
   "execution_count": 3,
   "metadata": {},
   "outputs": [],
   "source": [
    "if operacao == \"1\":\n",
    "    sinal = \" + \"\n",
    "    resultado = lambda a,b: a + b\n",
    "elif operacao == \"2\":\n",
    "    sinal = \" - \"\n",
    "    resultado = lambda a,b: a - b\n",
    "elif operacao == \"3\":\n",
    "    sinal = \" x \"\n",
    "    resultado = lambda a,b: a * b\n",
    "elif operacao == \"4\":\n",
    "    sinal = \" / \"\n",
    "    resultado = lambda a,b: a / b\n",
    "else:\n",
    "    resultado = 0"
   ]
  },
  {
   "cell_type": "code",
   "execution_count": 4,
   "metadata": {},
   "outputs": [
    {
     "name": "stdout",
     "output_type": "stream",
     "text": [
      "Operação inválida\n"
     ]
    }
   ],
   "source": [
    "if not resultado:\n",
    "    print(\"Operação inválida\")\n",
    "else:\n",
    "    print(operando_1, sinal, operando_2, \" = \", resultado(operando_1, operando_2))"
   ]
  }
 ],
 "metadata": {
  "kernelspec": {
   "display_name": "Python 3",
   "language": "python",
   "name": "python3"
  },
  "language_info": {
   "codemirror_mode": {
    "name": "ipython",
    "version": 3
   },
   "file_extension": ".py",
   "mimetype": "text/x-python",
   "name": "python",
   "nbconvert_exporter": "python",
   "pygments_lexer": "ipython3",
   "version": "3.9.0"
  }
 },
 "nbformat": 4,
 "nbformat_minor": 4
}
